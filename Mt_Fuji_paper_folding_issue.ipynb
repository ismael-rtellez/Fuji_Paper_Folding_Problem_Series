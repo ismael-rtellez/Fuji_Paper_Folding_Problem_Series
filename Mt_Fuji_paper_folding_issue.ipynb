{
  "nbformat": 4,
  "nbformat_minor": 0,
  "metadata": {
    "colab": {
      "provenance": [],
      "toc_visible": true,
      "authorship_tag": "ABX9TyPmchl6wtgnwawBsoT0wlkK",
      "include_colab_link": true
    },
    "kernelspec": {
      "name": "python3",
      "display_name": "Python 3"
    },
    "language_info": {
      "name": "python"
    }
  },
  "cells": [
    {
      "cell_type": "markdown",
      "metadata": {
        "id": "view-in-github",
        "colab_type": "text"
      },
      "source": [
        "<a href=\"https://colab.research.google.com/github/ismael-rtellez/Fuji_Paper_Folding_Problem_Series/blob/main/Mt_Fuji_paper_folding_issue.ipynb\" target=\"_parent\"><img src=\"https://colab.research.google.com/assets/colab-badge.svg\" alt=\"Open In Colab\"/></a>"
      ]
    },
    {
      "cell_type": "markdown",
      "source": [
        "# Problem 1: How many times to fold paper exceed the height of Mt. Fuji?"
      ],
      "metadata": {
        "id": "0M1S2Q7-pfHw"
      }
    },
    {
      "cell_type": "code",
      "execution_count": 1,
      "metadata": {
        "colab": {
          "base_uri": "https://localhost:8080/"
        },
        "id": "SuGAx1KepFSR",
        "outputId": "82f4f530-80e2-4d06-bbbc-948165a97e2d"
      },
      "outputs": [
        {
          "output_type": "stream",
          "name": "stdout",
          "text": [
            "Exceed Mt. Fuji on the 26th fold\n"
          ]
        }
      ],
      "source": [
        "THICKNESS = 0.00008       #Value in meters\n",
        "height_of_Mt_fuji = 3776  #value in meters\n",
        "\n",
        "paper_folding = []      #Create a list for height of paper\n",
        "number_of_folding = []  #Create a list for number of folding\n",
        "height_of_paper = THICKNESS\n",
        "i = 0     #Start a counter in 0\n",
        "\n",
        "paper_folding.append(height_of_paper) #Add the first value of height\n",
        "\n",
        "while (paper_folding[-1] < height_of_Mt_fuji):   #We check the last height value with the height of Mt. Fuji\n",
        "  i +=                    #We add the counter one by one\n",
        "  height_of_paper *= 2    #Double the height of the paper\n",
        "  paper_folding.append(height_of_paper) #We add the last height value obtained to the list\n",
        "  number_of_folding.append(i)   #We add the counter to the list number of folding\n",
        "\n",
        "#print((paper_folding[-1]))  #For see the height of paper\n",
        "print(\"Exceed Mt. Fuji on the {}th fold\".format(number_of_folding[-1]))"
      ]
    },
    {
      "cell_type": "markdown",
      "source": [
        "# Problem 2: Function corresponding to arbitrary thickness"
      ],
      "metadata": {
        "id": "lEEGDjrOp6Ak"
      }
    },
    {
      "cell_type": "code",
      "source": [
        "distance_proxima_centauri = 4.0175e16 #distance in meters\n",
        "\n",
        "def arbitrary_thickness(target_distance):   #create a function for any height\n",
        "  number_of_folding2 = 0\n",
        "  height_of_paper2 = THICKNESS\n",
        "\n",
        "  while height_of_paper2 < target_distance: #We check the height of paper with the distance to proxima centauri\n",
        "    height_of_paper2 *= 2       #Double the height of the paper\n",
        "    number_of_folding2 += 1     #We increase the number of paper folds by one\n",
        "  return number_of_folding2\n",
        "\n",
        "#We print the result by calling the function created using the distance to proxima centauri as the argument\n",
        "print(f\"Number of folds required to exceed the distance to Proxima Centauri: {arbitrary_thickness(distance_proxima_centauri)}\")"
      ],
      "metadata": {
        "colab": {
          "base_uri": "https://localhost:8080/"
        },
        "id": "oz5wrecVqDLa",
        "outputId": "af0fec8e-a70c-441f-b8bc-40ff9c8a35be"
      },
      "execution_count": 4,
      "outputs": [
        {
          "output_type": "stream",
          "name": "stdout",
          "text": [
            "Number of folds required to exceed the distance to Proxima Centauri: 69\n"
          ]
        }
      ]
    },
    {
      "cell_type": "markdown",
      "source": [
        "# Problem 3: Required paper length"
      ],
      "metadata": {
        "id": "-8Lba-lTqDuP"
      }
    },
    {
      "cell_type": "code",
      "source": [
        "import math\n",
        "\n",
        "Mt_fuji_height = 3776                   #vale in meters\n",
        "distance_to_moon = 384400000            #vale in meters\n",
        "distance_proxima_centauri = 4.0175e16   #vale in meters\n",
        "\n",
        "def required_paper_length(folds):       #We create a function to calculate the length of the paper\n",
        "  thickness = 0.00008\n",
        "  length = (math.pi * thickness / 6) * (2**folds + 4) * (2**folds - 1) #Formula for paper length\n",
        "  return length\n",
        "\n",
        "mt_fuji_folds = arbitrary_thickness(Mt_fuji_height)                         #We call the function from the previous problem\n",
        "moon_folds = arbitrary_thickness(distance_to_moon)                          #to find the number of folds for Mt. Fuji, the moon\n",
        "proxima_centauri_folds = arbitrary_thickness(distance_proxima_centauri)     #and the distance to proxima centauri\n",
        "\n",
        "\n",
        "#We print the results and for that we call the function for the length of the paper\n",
        "#using as argument the number of folds required for each of the three distances we are using\n",
        "\n",
        "#Calculation for the height of Mt. Fuji\n",
        "print(f\"Number of folds required to exceed the height of Mt. Fuji :{mt_fuji_folds}\")\n",
        "print(f\"Length of paper required to reach the height of Mt. Fuji :{required_paper_length(mt_fuji_folds):,.2f} meters\")\n",
        "\n",
        "#Calculation for the distance to Moon\n",
        "print(f\"Number of folds required to exceed the distance of the moon :{moon_folds}\")\n",
        "print(f\"Length of paper required to reach the distance of the moon :{required_paper_length(moon_folds):,.2f} meters\")\n",
        "\n",
        "#Calculation for the distance to Proxima Centauri\n",
        "print(f\"Number of folds required to exceed the distance to Proxima Centauri :{proxima_centauri_folds}\")\n",
        "print(f\"Length of paper required to reach distance to Proxima Centauri :{required_paper_length(proxima_centauri_folds):,.2f} meters\")"
      ],
      "metadata": {
        "colab": {
          "base_uri": "https://localhost:8080/"
        },
        "id": "hkvI-qgsqKgy",
        "outputId": "4d319825-9d5d-48e3-eae8-a6653cc0c3ee"
      },
      "execution_count": 5,
      "outputs": [
        {
          "output_type": "stream",
          "name": "stdout",
          "text": [
            "Number of folds required to exceed the height of Mt. Fuji :26\n",
            "Length of paper required to reach the height of Mt. Fuji :188,646,348,487.24 meters\n",
            "Number of folds required to exceed the distance of the moon :43\n",
            "Length of paper required to reach the distance of the moon :3,240,919,444,170,781,229,056.00 meters\n",
            "Number of folds required to exceed the distance to Proxima Centauri :69\n",
            "Length of paper required to reach distance to Proxima Centauri :14,595,803,601,100,347,983,589,756,318,297,096,192.00 meters\n"
          ]
        }
      ]
    }
  ]
}